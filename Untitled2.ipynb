{
  "nbformat": 4,
  "nbformat_minor": 0,
  "metadata": {
    "colab": {
      "provenance": [],
      "gpuType": "T4",
      "authorship_tag": "ABX9TyPrOla8Bu9vajKOWKVLfMQ0",
      "include_colab_link": true
    },
    "kernelspec": {
      "name": "python3",
      "display_name": "Python 3"
    },
    "language_info": {
      "name": "python"
    },
    "accelerator": "GPU"
  },
  "cells": [
    {
      "cell_type": "markdown",
      "metadata": {
        "id": "view-in-github",
        "colab_type": "text"
      },
      "source": [
        "<a href=\"https://colab.research.google.com/github/Caio-Oliveira98/Brmodelo.jar/blob/main/Untitled2.ipynb\" target=\"_parent\"><img src=\"https://colab.research.google.com/assets/colab-badge.svg\" alt=\"Open In Colab\"/></a>"
      ]
    },
    {
      "cell_type": "markdown",
      "source": [
        "# Resolução do Checkpoint 04 - Machine Learning\n",
        "\n",
        "# **Objetivo:**\n",
        " Este notebook tem como objetivo resolver o Checkpoint 04 da matéria de Machine Learning,\n",
        " utilizando o algoritmo Random Forest para regressão, conforme especificado no PDF."
      ],
      "metadata": {
        "id": "VkRuTdol86u4"
      }
    },
    {
      "cell_type": "markdown",
      "source": [
        "# **Passos:**\n",
        "# 1.  Entendimento do Problema\n",
        "# 2.  Coleta de Dados (com a base de dados 'autos.csv')\n",
        "# 3.  Análise e Limpeza de dados\n",
        "# 4.  Engenharia de Features\n",
        "# 5.  Modelagem com Random Forest\n",
        "# 6.  Avaliação do Modelo\n",
        "# 7.  Conclusão\n"
      ],
      "metadata": {
        "id": "p5B9kwp39Crc"
      }
    },
    {
      "cell_type": "markdown",
      "source": [
        "#  1. Entendimento do Problema\n",
        "\n",
        "# **Objetivo Geral:**\n",
        " Criar um modelo de Machine Learning capaz de prever o preço de veículos usados com base em\n",
        " suas características.\n",
        "\n",
        "# **Por que isso é importante?**\n",
        " Prever o preço de um veículo usado é útil para:\n",
        " - Compradores: Saber se estão pagando um preço justo.\n",
        " - Vendedores: Definir um preço competitivo para vender mais rápido.\n",
        " - Empresas: Avaliar o valor de seus ativos (frota de veículos, etc.).\n",
        "\n",
        "# **Algoritmo:**\n",
        " Utilizaremos o Random Forest, um algoritmo de aprendizado de máquina que combina várias\n",
        " árvores de decisão para fazer previsões mais precisas e robustas.\n",
        "\n",
        "# **Dataset:**\n",
        " O dataset a ser utilizado é o 'autos.csv', que contém informações sobre veículos usados\n",
        " (marca, modelo, ano, quilometragem, etc.).\n",
        "\n",
        "# **Variáveis:**\n",
        " As variáveis disponíveis no dataset são:\n",
        " 1. DateCrawled: data rastreada (data em que o anúncio foi coletado)\n",
        " 2. Name: nome do anúncio\n",
        " 3. seller: tipo de vendedor (privado ou comercial)\n",
        " 4. offerType: tipo de oferta (leilão, venda direta, etc.)\n",
        " 5. Price (target): preço do veículo (o que queremos prever)\n",
        " 6. abtest: se o anúncio participou de um teste A/B\n",
        " 7. vehicleType: tipo de veículo (carro, moto, caminhão, etc.)\n",
        " 8. yearOfRegistration: ano de registro do veículo\n",
        " 9. gearbox: tipo de câmbio (manual ou automático)\n",
        " 10. powerPS: potência do motor em cavalos (PS)\n",
        " 11. model: modelo do veículo\n",
        " 12. kilometer: quilometragem percorrida\n",
        " 13. monthOfRegistration: mês de registro do veículo\n",
        " 14. fuelType: tipo de combustível\n",
        " 15. brand: marca do veículo\n",
        " 16. notRepairedDamage: se o veículo possui danos não reparados\n",
        " 17. dateCreated: data de criação do anúncio\n",
        " 18. nrOfPictures: número de fotos no anúncio\n",
        " 19. postalCode: código postal do anunciante\n",
        " 20. lastSeen: data da última vez em que o anúncio foi visto\n",
        "\n",
        "# **Métrica de Avaliação:**\n",
        " Mean Absolute Error (MAE): Mede a diferença média absoluta entre os valores previstos pelo\n",
        " Modelo e os valores reais. Quanto menor o MAE, melhor o modelo.\n"
      ],
      "metadata": {
        "id": "Y64FsmV69IZ2"
      }
    },
    {
      "cell_type": "markdown",
      "source": [
        "#  2. Coleta de Dados\n",
        "\n",
        "# **Objetivo:**\n",
        " Importar as bibliotecas necessárias e carregar o dataset 'autos.csv' para análise.\n",
        "\n",
        "# **Bibliotecas:**\n",
        " - pandas: Para manipulação e análise de dados tabulares (como tabelas).\n",
        " - numpy: Para operações numéricas eficientes (cálculos matemáticos).\n",
        " - matplotlib.pyplot: Para criação de gráficos e visualizações.\n",
        " - seaborn: Para criação de gráficos estatísticos mais atraentes.\n",
        " - sklearn.model_selection: Para dividir os dados em conjuntos de treinamento e teste, e para\n",
        "   otimizar os hiperparâmetros do modelo.\n",
        " - sklearn.preprocessing: Para pré-processar os dados (transformar variáveis, etc.).\n",
        " - sklearn.impute: Para lidar com valores ausentes nos dados.\n",
        " - sklearn.ensemble: Para utilizar o modelo Random Forest para regressão.\n",
        " - sklearn.metrics: Para calcular métricas de avaliação do modelo (como o MAE).\n",
        " - datetime: Para trabalhar com datas e horários.\n",
        "\n"
      ],
      "metadata": {
        "id": "EC5dO0-G9fyp"
      }
    },
    {
      "cell_type": "code",
      "source": [
        "# Importação das bibliotecas\n",
        "import pandas as pd  # Manipulação e análise de dados tabulares\n",
        "import numpy as np  # Operações numéricas\n",
        "import matplotlib.pyplot as plt  # Criação de gráficos e visualizações\n",
        "import seaborn as sns  # Criação de gráficos estatísticos mais atraentes\n",
        "from sklearn.model_selection import train_test_split, GridSearchCV  # Divisão dos dados e otimização de hiperparâmetros\n",
        "from sklearn.preprocessing import LabelEncoder, StandardScaler, OneHotEncoder  # Pré-processamento dos dados\n",
        "from sklearn.impute import SimpleImputer  # Imputação de valores ausentes\n",
        "from sklearn.ensemble import RandomForestRegressor  # Modelo Random Forest para regressão\n",
        "from sklearn.metrics import mean_absolute_error  # Métrica de avaliação do modelo\n",
        "import datetime  # Manipulação de datas\n",
        "from datetime import datetime  # Manipulação de datas"
      ],
      "metadata": {
        "id": "Yp9A3pmx9eO9"
      },
      "execution_count": 1,
      "outputs": []
    },
    {
      "cell_type": "code",
      "source": [
        "# Carregando o dataset 'autos.csv'\n",
        "\n",
        "# Explicação:\n",
        "# - pd.read_csv(): Função do pandas para ler arquivos CSV (arquivos de tabela).\n",
        "# - 'autos.csv': Nome do arquivo a ser lido.\n",
        "# - encoding='ISO-8859-1': Especifica a codificação dos caracteres do arquivo. Isso é importante\n",
        "#   para garantir que caracteres especiais (como letras acentuadas) sejam lidos corretamente.\n",
        "df = pd.read_csv('autos.csv', encoding='ISO-8859-1')"
      ],
      "metadata": {
        "id": "Hu3bO5Py9vDe"
      },
      "execution_count": 3,
      "outputs": []
    },
    {
      "cell_type": "code",
      "source": [
        "\n",
        "# Exibindo as primeiras linhas do dataset para verificar se o carregamento foi bem-sucedido\n",
        "# Explicação:\n",
        "# - df.head(): Função do pandas para exibir as primeiras linhas do DataFrame (tabela).\n",
        "#   Por padrão, exibe as 5 primeiras linhas.\n",
        "print(df.head())"
      ],
      "metadata": {
        "colab": {
          "base_uri": "https://localhost:8080/"
        },
        "id": "nsRCMm1H-AOP",
        "outputId": "fe9ef17e-36c3-40f0-ce45-b0d215367ce9"
      },
      "execution_count": 4,
      "outputs": [
        {
          "output_type": "stream",
          "name": "stdout",
          "text": [
            "           dateCrawled                            name  seller offerType  \\\n",
            "0  2016-03-24 11:52:17                      Golf_3_1.6  privat   Angebot   \n",
            "1  2016-03-24 10:58:45            A5_Sportback_2.7_Tdi  privat   Angebot   \n",
            "2  2016-03-14 12:52:21  Jeep_Grand_Cherokee_\"Overland\"  privat   Angebot   \n",
            "3  2016-03-17 16:54:04              GOLF_4_1_4__3TÜRER  privat   Angebot   \n",
            "4  2016-03-31 17:25:20  Skoda_Fabia_1.4_TDI_PD_Classic  privat   Angebot   \n",
            "\n",
            "   price abtest vehicleType  yearOfRegistration    gearbox  powerPS  model  \\\n",
            "0    480   test         NaN                1993    manuell        0   golf   \n",
            "1  18300   test       coupe                2011    manuell      190    NaN   \n",
            "2   9800   test         suv                2004  automatik      163  grand   \n",
            "3   1500   test  kleinwagen                2001    manuell       75   golf   \n",
            "4   3600   test  kleinwagen                2008    manuell       69  fabia   \n",
            "\n",
            "   kilometer  monthOfRegistration fuelType       brand notRepairedDamage  \\\n",
            "0     150000                    0   benzin  volkswagen               NaN   \n",
            "1     125000                    5   diesel        audi                ja   \n",
            "2     125000                    8   diesel        jeep               NaN   \n",
            "3     150000                    6   benzin  volkswagen              nein   \n",
            "4      90000                    7   diesel       skoda              nein   \n",
            "\n",
            "           dateCreated  nrOfPictures  postalCode             lastSeen  \n",
            "0  2016-03-24 00:00:00             0       70435  2016-04-07 03:16:57  \n",
            "1  2016-03-24 00:00:00             0       66954  2016-04-07 01:46:50  \n",
            "2  2016-03-14 00:00:00             0       90480  2016-04-05 12:47:46  \n",
            "3  2016-03-17 00:00:00             0       91074  2016-03-17 17:40:17  \n",
            "4  2016-03-31 00:00:00             0       60437  2016-04-06 10:17:21  \n"
          ]
        }
      ]
    },
    {
      "cell_type": "markdown",
      "source": [
        "#  3. Análise de Dados e Limpeza\n",
        "\n",
        "# **Objetivo:**\n",
        " Realizar uma análise exploratória dos dados para entender melhor as relações entre as\n",
        " variáveis, tratar valores ausentes e remover colunas desnecessárias para preparar o dataset\n",
        " para a modelagem.\n",
        "\n",
        "# **Análise Exploratória:**\n",
        " - Verificar os tipos de dados de cada coluna.\n",
        " - Calcular estatísticas descritivas (média, mediana, desvio padrão, etc.).\n",
        " - Identificar valores ausentes.\n",
        " - Visualizar a distribuição das variáveis.\n",
        "\n",
        "# **Limpeza dos Dados:**\n",
        " - Remover colunas desnecessárias (que não contribuem para a previsão do preço).\n",
        " - Tratar valores ausentes (preencher com valores adequados).\n",
        " - Tratar outliers (valores muito discrepantes que podem prejudicar o modelo)."
      ],
      "metadata": {
        "id": "AA1Z7qz6-Gd4"
      }
    },
    {
      "cell_type": "markdown",
      "source": [
        "# Removendo colunas desnecessárias que não contribuem para a previsão do preço do veículo.\n",
        "\n"
      ],
      "metadata": {
        "id": "gL3rZTWO-rtt"
      }
    },
    {
      "cell_type": "code",
      "source": [
        "# Removendo colunas desnecessárias\n",
        "# Colunas que não contribuem para a previsão do preço do veículo\n",
        "#\n",
        "# Explicação:\n",
        "# - Essas colunas contêm informações que não são muito relevantes para prever o preço do veículo\n",
        "#   (como datas de coleta, nomes, etc.).\n",
        "# - Remover essas colunas ajuda a simplificar o modelo e evitar overfitting (quando o modelo\n",
        "#   se ajusta demais aos dados de treinamento e não generaliza bem para novos dados).\n",
        "columns_to_drop = [\n",
        "    'dateCrawled', 'name', 'seller', 'offerType', 'dateCreated',\n",
        "    'nrOfPictures', 'postalCode', 'lastSeen', 'monthOfRegistration'\n",
        "]"
      ],
      "metadata": {
        "id": "Cap8nEOu-YtL"
      },
      "execution_count": 5,
      "outputs": []
    },
    {
      "cell_type": "code",
      "source": [
        "# Explicação:\n",
        "# - df.drop(): Função do pandas para remover colunas de um DataFrame.\n",
        "# - columns=columns_to_drop: Especifica a lista de colunas a serem removidas.\n",
        "# - errors='ignore': Ignora erros se alguma das colunas não existir no DataFrame.\n",
        "df = df.drop(columns=columns_to_drop, errors='ignore')  # Remove as colunas, ignorando erros se não existirem"
      ],
      "metadata": {
        "id": "4tV6Rd4s-mcl"
      },
      "execution_count": 6,
      "outputs": []
    },
    {
      "cell_type": "markdown",
      "source": [
        "# Análise descritiva\n",
        "# Exibe estatísticas descritivas das colunas numéricas."
      ],
      "metadata": {
        "id": "Di4MyWw3-wpi"
      }
    },
    {
      "cell_type": "code",
      "source": [
        "# Explicação:\n",
        "# - df.describe(): Função do pandas para calcular estatísticas descritivas das colunas numéricas\n",
        "#   do DataFrame.\n",
        "# - As estatísticas incluem: contagem, média, desvio padrão, mínimo, máximo e quartis.\n",
        "# - Essas estatísticas ajudam a entender a distribuição dos dados e identificar possíveis\n",
        "#   problemas (como outliers).\n",
        "print(df.describe())"
      ],
      "metadata": {
        "colab": {
          "base_uri": "https://localhost:8080/"
        },
        "id": "5dLFYMoa_Cwe",
        "outputId": "acd0421b-a33d-4ea3-a9c8-a5b5019fdf92"
      },
      "execution_count": 7,
      "outputs": [
        {
          "output_type": "stream",
          "name": "stdout",
          "text": [
            "              price  yearOfRegistration        powerPS      kilometer\n",
            "count  3.715280e+05       371528.000000  371528.000000  371528.000000\n",
            "mean   1.729514e+04         2004.577997     115.549477  125618.688228\n",
            "std    3.587954e+06           92.866598     192.139578   40112.337051\n",
            "min    0.000000e+00         1000.000000       0.000000    5000.000000\n",
            "25%    1.150000e+03         1999.000000      70.000000  125000.000000\n",
            "50%    2.950000e+03         2003.000000     105.000000  150000.000000\n",
            "75%    7.200000e+03         2008.000000     150.000000  150000.000000\n",
            "max    2.147484e+09         9999.000000   20000.000000  150000.000000\n"
          ]
        }
      ]
    },
    {
      "cell_type": "markdown",
      "source": [
        "# Tratamento de outliers na variável 'price' substituindo valores de preço muito baixos ou muito altos pela mediana."
      ],
      "metadata": {
        "id": "iyqd4cqY_IdR"
      }
    },
    {
      "cell_type": "code",
      "source": [
        "# Explicação:\n",
        "# - Outliers são valores muito discrepantes que podem prejudicar o desempenho do modelo.\n",
        "# - Neste caso, consideramos outliers os preços abaixo de 100 e acima de 350000.\n",
        "# - A mediana é uma medida de tendência central robusta a outliers (ao contrário da média).\n",
        "median_price = df['price'].median()  # Calcula a mediana dos preços"
      ],
      "metadata": {
        "id": "TmeleJWW_Hwx"
      },
      "execution_count": 8,
      "outputs": []
    },
    {
      "cell_type": "code",
      "source": [
        "# Explicação:\n",
        "# - df.loc[]: Função do pandas para selecionar linhas e colunas com base em rótulos ou\n",
        "#   condições.\n",
        "# - df['price'] < 100: Condição para selecionar as linhas onde o preço é menor que 100.\n",
        "# - 'price': Nome da coluna a ser modificada.\n",
        "# - median_price: Valor a ser atribuído às linhas selecionadas.\n",
        "df.loc[df['price'] < 100, 'price'] = median_price  # Substitui preços abaixo de 100 pela mediana\n",
        "df.loc[df['price'] > 350000, 'price'] = median_price  # Substitui preços acima de 350000 pela mediana"
      ],
      "metadata": {
        "id": "zyQSJtsb_TTi"
      },
      "execution_count": 9,
      "outputs": []
    },
    {
      "cell_type": "markdown",
      "source": [
        "# Tratamento de valores ausentes, preenchendo valores ausentes em colunas categóricas com a moda e em colunas numéricas com a mediana."
      ],
      "metadata": {
        "id": "ZpHKp3FP_XPT"
      }
    },
    {
      "cell_type": "code",
      "source": [
        "# Explicação:\n",
        "# - Valores ausentes são dados que faltam em algumas linhas do DataFrame.\n",
        "# - É importante tratar valores ausentes para evitar erros no modelo.\n",
        "# - A moda é o valor mais frequente em uma coluna.\n",
        "# - A mediana é o valor central em uma coluna (divide os dados em duas metades iguais).\n",
        "# - df.columns: Atributo do pandas que retorna os nomes das colunas do DataFrame.\n",
        "# - for column in df.columns:: Loop que itera sobre cada coluna do DataFrame.\n",
        "# - df[column].dtype: Atributo do pandas que retorna o tipo de dado da coluna.\n",
        "# - df[column].dtype == 'object': Condição que verifica se a coluna é do tipo 'object'\n",
        "#   (categórica).\n",
        "# - df[column].fillna(): Função do pandas para preencher valores ausentes em uma coluna.\n",
        "# - df[column].mode()[0]: Calcula a moda da coluna e retorna o primeiro valor (caso haja\n",
        "#   múltiplas modas).\n",
        "# - df[column].median(): Calcula a mediana da coluna.\n",
        "for column in df.columns:  # Itera sobre cada coluna do DataFrame\n",
        "    if df[column].dtype == 'object':  # Se a coluna for do tipo 'object' (categórica)\n",
        "        df[column] = df[column].fillna(df[column].mode()[0])  # Preenche com a moda\n",
        "    else:  # Se a coluna for numérica\n",
        "        df[column] = df[column].fillna(df[column].median())  # Preenche com a mediana"
      ],
      "metadata": {
        "id": "SyxKizhD_dU1"
      },
      "execution_count": 10,
      "outputs": []
    },
    {
      "cell_type": "markdown",
      "source": [
        "# Convertendo variáveis categóricas em numéricas usando Label Encoding,transformando colunas categóricas em representações numéricas."
      ],
      "metadata": {
        "id": "WYDURBr6_ybf"
      }
    },
    {
      "cell_type": "code",
      "source": [
        "# Explicação:\n",
        "# - Modelos de Machine Learning geralmente funcionam melhor com dados numéricos.\n",
        "# - Label Encoding é uma técnica para transformar variáveis categóricas em números.\n",
        "# - Cada categoria é atribuída a um número inteiro único.\n",
        "# - [col for col in df.columns if df[col].dtype == 'object']: List comprehension que cria uma\n",
        "#   lista com os nomes das colunas que são do tipo 'object' (categóricas).\n",
        "categorical_cols = [col for col in df.columns if df[col].dtype == 'object']  # Lista de colunas categóricas"
      ],
      "metadata": {
        "id": "IAdsaF1l__Am"
      },
      "execution_count": 11,
      "outputs": []
    },
    {
      "cell_type": "code",
      "source": [
        "# Explicação:\n",
        "# - LabelEncoder(): Classe do scikit-learn para realizar Label Encoding.\n",
        "# - le.fit_transform(): Método do LabelEncoder que ajusta o modelo aos dados e transforma as\n",
        "#   categorias em números.\n",
        "for column in categorical_cols:  # Itera sobre cada coluna categórica\n",
        "    le = LabelEncoder()  # Cria um objeto LabelEncoder\n",
        "    df[column] = le.fit_transform(df[column])  # Aplica o Label Encoding na coluna"
      ],
      "metadata": {
        "id": "AIX2CnCUACZS"
      },
      "execution_count": 12,
      "outputs": []
    },
    {
      "cell_type": "markdown",
      "source": [
        "# Verificando valores ausentes após o tratamento e imprimindo a quantidade de valores ausentes em cada coluna para verificar se o tratamento foi bem-sucedido."
      ],
      "metadata": {
        "id": "30VwsJReAHIN"
      }
    },
    {
      "cell_type": "code",
      "source": [
        "# Explicação:\n",
        "# - df.isnull().sum(): Calcula a soma dos valores ausentes em cada coluna do DataFrame.\n",
        "# - print(): Função para imprimir a saída no console.\n",
        "print(\"\\nValores ausentes após o tratamento:\")\n",
        "print(df.isnull().sum())"
      ],
      "metadata": {
        "colab": {
          "base_uri": "https://localhost:8080/"
        },
        "id": "2Re9-Dn4APm2",
        "outputId": "80c21893-cc78-4049-f93e-4d5649790a33"
      },
      "execution_count": 13,
      "outputs": [
        {
          "output_type": "stream",
          "name": "stdout",
          "text": [
            "\n",
            "Valores ausentes após o tratamento:\n",
            "price                 0\n",
            "abtest                0\n",
            "vehicleType           0\n",
            "yearOfRegistration    0\n",
            "gearbox               0\n",
            "powerPS               0\n",
            "model                 0\n",
            "kilometer             0\n",
            "fuelType              0\n",
            "brand                 0\n",
            "notRepairedDamage     0\n",
            "dtype: int64\n"
          ]
        }
      ]
    },
    {
      "cell_type": "markdown",
      "source": [
        "#  4. Engenharia de Features\n",
        "\n",
        "# **Objetivo:**\n",
        " Criar novas features a partir das existentes e preparar os dados para a modelagem.\n",
        "\n",
        "# **Engenharia de Features:**\n",
        " - Criar novas variáveis que podem ser úteis para o modelo.\n",
        " - Transformar variáveis existentes para melhorar o desempenho do modelo.\n",
        "\n",
        " **Neste caso, vamos criar a feature 'idade_veiculo' (idade do veículo) e padronizar as\n",
        " colunas numéricas.*"
      ],
      "metadata": {
        "id": "OQAhVCjrASGK"
      }
    },
    {
      "cell_type": "markdown",
      "source": [
        "# Criando a feature 'idade_veiculo' e calculando a idade do veículo subtraindo o ano de registro do ano atual.\n"
      ],
      "metadata": {
        "id": "JzHQK0nhAi72"
      }
    },
    {
      "cell_type": "code",
      "source": [
        "# Explicação:\n",
        "# - datetime.now(): Função do módulo datetime para obter a data e hora atuais.\n",
        "# - datetime.now().year: Atributo para extrair o ano da data atual.\n",
        "current_year = datetime.now().year  # Obtém o ano atual"
      ],
      "metadata": {
        "id": "CcJCuSPlAqFQ"
      },
      "execution_count": 14,
      "outputs": []
    },
    {
      "cell_type": "code",
      "source": [
        "# Explicação:\n",
        "# - df[\"idade_veiculo\"]: Cria uma nova coluna chamada 'idade_veiculo' no DataFrame.\n",
        "# - current_year - df[\"yearOfRegistration\"]: Subtrai o ano de registro do ano atual para\n",
        "#   calcular a idade do veículo.\n",
        "df[\"idade_veiculo\"] = current_year - df[\"yearOfRegistration\"]  # Calcula a idade do veículo"
      ],
      "metadata": {
        "id": "NtXuKfCBAr7f"
      },
      "execution_count": 15,
      "outputs": []
    },
    {
      "cell_type": "code",
      "source": [
        "# Explicação:\n",
        "# - df.drop(): Função do pandas para remover colunas de um DataFrame.\n",
        "# - \"yearOfRegistration\": Nome da coluna a ser removida.\n",
        "# - axis=1: Especifica que a coluna deve ser removida (axis=0 remove linhas).\n",
        "# - inplace=True: Modifica o DataFrame original (sem criar uma cópia).\n",
        "df.drop(\"yearOfRegistration\", axis=1, inplace=True)  # Remove a coluna 'yearOfRegistration'"
      ],
      "metadata": {
        "id": "k6K4_WVUAtvf"
      },
      "execution_count": 16,
      "outputs": []
    },
    {
      "cell_type": "markdown",
      "source": [
        "# Visualizando a distribuição da variável 'idade_veiculo' e criando um histograma para visualizar a distribuição da idade do veículo."
      ],
      "metadata": {
        "id": "ov4kG4YUAxd_"
      }
    },
    {
      "cell_type": "code",
      "source": [
        "\n",
        "# Explicação:\n",
        "# - plt.figure(): Função do matplotlib para criar uma nova figura (gráfico).\n",
        "# - figsize=(10, 6): Define o tamanho da figura (largura=12, altura=6).\n",
        "plt.figure(figsize=(12, 6))  # Tamanho mais largo para melhorar proporção\n",
        "\n",
        "# Filtrar idades maiores que 0 e limitar a visualização na faixa de 0 a 100 anos\n",
        "sns.histplot(data=df, x='idade_veiculo', kde=True, bins=30)  # Configurar o número de bins\n",
        "plt.title('Distribuição da Idade do Veículo', fontsize=16)  # Título com tamanho ajustado\n",
        "plt.xlabel('Idade do Veículo (em anos)', fontsize=14)  # Eixo X com rótulo claro\n",
        "plt.ylabel('Frequência', fontsize=14)  # Eixo Y com rótulo claro\n",
        "plt.xlim(0, 100)  # Definir limites no eixo X (idade de 0 a 100 anos)\n",
        "plt.tight_layout()  # Ajustar o layout para evitar cortes\n",
        "plt.show()  # Exibir o gráfico"
      ],
      "metadata": {
        "colab": {
          "base_uri": "https://localhost:8080/",
          "height": 521
        },
        "id": "uOfWoUnrA2dM",
        "outputId": "530930e8-28c7-4f96-9d9b-02ca8c0aa664"
      },
      "execution_count": 17,
      "outputs": [
        {
          "output_type": "display_data",
          "data": {
            "text/plain": [
              "<Figure size 1200x600 with 1 Axes>"
            ],
            "image/png": "[encoded data removed]"
          },
          "metadata": {}
        }
      ]
    },
    {
      "cell_type": "markdown",
      "source": [
        "# Padronizando as colunas numéricas\n",
        "# Escala as colunas numéricas para que tenham média 0 e desvio padrão 1"
      ],
      "metadata": {
        "id": "qpjcm4SvA9Xj"
      }
    },
    {
      "cell_type": "code",
      "source": [
        "# Explicação:\n",
        "# - Padronizar as colunas numéricas é importante para que o modelo não seja influenciado por\n",
        "#   diferenças de escala entre as variáveis.\n",
        "# - StandardScaler() escala as colunas para que tenham média 0 e desvio padrão 1.\n",
        "numerical_cols = ['powerPS', 'kilometer', 'idade_veiculo']  # Lista de colunas numéricas"
      ],
      "metadata": {
        "id": "l6NIGcC6BA_t"
      },
      "execution_count": 18,
      "outputs": []
    },
    {
      "cell_type": "code",
      "source": [
        "# Explicação:\n",
        "# - StandardScaler(): Classe do scikit-learn para padronizar os dados.\n",
        "# - scaler.fit_transform(): Método do StandardScaler que ajusta o modelo aos dados e\n",
        "#   transforma as colunas.\n",
        "scaler = StandardScaler()  # Cria um objeto StandardScaler\n",
        "df[numerical_cols] = scaler.fit_transform(df[numerical_cols])  # Aplica a padronização nas colunas"
      ],
      "metadata": {
        "id": "yt6FofKSBCcS"
      },
      "execution_count": 19,
      "outputs": []
    },
    {
      "cell_type": "markdown",
      "source": [
        "# One-Hot Encoding para variáveis categóricas\n",
        "# Transforma colunas categóricas em representações numéricas usando One-Hot Encoding."
      ],
      "metadata": {
        "id": "pgD2VpI0BGHf"
      }
    },
    {
      "cell_type": "code",
      "source": [
        "# Explicação:\n",
        "# - One-Hot Encoding é uma técnica para transformar variáveis categóricas em números, criando\n",
        "#   uma coluna para cada categoria.\n",
        "# - Isso é importante porque modelos de Machine Learning geralmente funcionam melhor com dados\n",
        "#   numéricos.\n",
        "categorical_cols = ['abtest', 'vehicleType', 'gearbox', 'model', 'fuelType', 'brand', 'notRepairedDamage']  # Lista de colunas categóricas"
      ],
      "metadata": {
        "id": "bmmjEWd2BS8c"
      },
      "execution_count": 20,
      "outputs": []
    },
    {
      "cell_type": "code",
      "source": [
        "# Explicação:\n",
        "# - OneHotEncoder(): Classe do scikit-learn para realizar One-Hot Encoding.\n",
        "# - sparse_output=False: Especifica que a saída não deve ser esparsa (matriz densa).\n",
        "# - handle_unknown='ignore': Especifica que categorias desconhecidas devem ser ignoradas.\n",
        "encoder = OneHotEncoder(sparse_output=False, handle_unknown='ignore')  # Cria um objeto OneHotEncoder"
      ],
      "metadata": {
        "id": "aOr3Q4bRBUsg"
      },
      "execution_count": 21,
      "outputs": []
    },
    {
      "cell_type": "code",
      "source": [
        "# Explicação:\n",
        "# - encoder.fit_transform(): Método do OneHotEncoder que ajusta o modelo aos dados e\n",
        "#   transforma as categorias em números.\n",
        "encoded_data = encoder.fit_transform(df[categorical_cols])  # Aplica o One-Hot Encoding"
      ],
      "metadata": {
        "id": "jUhpQWXHBW3d"
      },
      "execution_count": 22,
      "outputs": []
    },
    {
      "cell_type": "code",
      "source": [
        "# Explicação:\n",
        "# - pd.DataFrame(): Função do pandas para criar um DataFrame.\n",
        "# - encoded_data: Dados codificados pelo One-Hot Encoding.\n",
        "# - columns=encoder.get_feature_names_out(categorical_cols): Especifica os nomes das colunas\n",
        "#   do DataFrame (obtidos a partir do OneHotEncoder).\n",
        "encoded_df = pd.DataFrame(encoded_data, columns=encoder.get_feature_names_out(categorical_cols))  # Cria um DataFrame com os dados codificados"
      ],
      "metadata": {
        "id": "mh-Xolg1BZJ5"
      },
      "execution_count": 23,
      "outputs": []
    },
    {
      "cell_type": "code",
      "source": [
        "# Explicação:\n",
        "# - pd.concat(): Função do pandas para concatenar DataFrames.\n",
        "# - [df, encoded_df]: Lista de DataFrames a serem concatenados.\n",
        "# - axis=1: Especifica que a concatenação deve ser feita ao longo das colunas (horizontalmente).\n",
        "df = pd.concat([df, encoded_df], axis=1)  # Concatena os dados codificados com o DataFrame original"
      ],
      "metadata": {
        "id": "Tg2gMQ59BbOo"
      },
      "execution_count": 24,
      "outputs": []
    },
    {
      "cell_type": "code",
      "source": [
        "# Explicação:\n",
        "# - df.drop(): Função do pandas para remover colunas de um DataFrame.\n",
        "# - categorical_cols: Lista de colunas a serem removidas.\n",
        "# - axis=1: Especifica que as colunas devem ser removidas (axis=0 remove linhas).\n",
        "# - inplace=True: Modifica o DataFrame original (sem criar uma cópia).\n",
        "df.drop(columns=categorical_cols, inplace=True)  # Remove as colunas categóricas originais"
      ],
      "metadata": {
        "id": "fsDH9uqLBcrF"
      },
      "execution_count": 25,
      "outputs": []
    },
    {
      "cell_type": "markdown",
      "source": [
        "# Verificando o DataFrame final"
      ],
      "metadata": {
        "id": "CL_kOgyJBfSd"
      }
    },
    {
      "cell_type": "code",
      "source": [
        "# Imprime as primeiras linhas do DataFrame para verificar se as transformações foram aplicadas\n",
        "# corretamente\n",
        "print(df.head())"
      ],
      "metadata": {
        "colab": {
          "base_uri": "https://localhost:8080/"
        },
        "id": "TZuuidxiBi_n",
        "outputId": "933798dd-5e92-499c-a87d-0af5dac13ef8"
      },
      "execution_count": 26,
      "outputs": [
        {
          "output_type": "stream",
          "name": "stdout",
          "text": [
            "   price   powerPS  kilometer  idade_veiculo  abtest_0  abtest_1  \\\n",
            "0    480 -0.601384   0.607827       0.124674       0.0       1.0   \n",
            "1  18300  0.387482  -0.015424      -0.069153       0.0       1.0   \n",
            "2   9800  0.246959  -0.015424       0.006224       0.0       1.0   \n",
            "3   1500 -0.211042   0.607827       0.038528       0.0       1.0   \n",
            "4   3600 -0.242269  -0.887975      -0.036849       0.0       1.0   \n",
            "\n",
            "   vehicleType_0  vehicleType_1  vehicleType_2  vehicleType_3  ...  brand_32  \\\n",
            "0            0.0            0.0            0.0            0.0  ...       0.0   \n",
            "1            0.0            0.0            0.0            1.0  ...       0.0   \n",
            "2            0.0            0.0            0.0            0.0  ...       0.0   \n",
            "3            0.0            0.0            0.0            0.0  ...       0.0   \n",
            "4            0.0            0.0            0.0            0.0  ...       0.0   \n",
            "\n",
            "   brand_33  brand_34  brand_35  brand_36  brand_37  brand_38  brand_39  \\\n",
            "0       0.0       0.0       0.0       0.0       0.0       1.0       0.0   \n",
            "1       0.0       0.0       0.0       0.0       0.0       0.0       0.0   \n",
            "2       0.0       0.0       0.0       0.0       0.0       0.0       0.0   \n",
            "3       0.0       0.0       0.0       0.0       0.0       1.0       0.0   \n",
            "4       0.0       0.0       0.0       0.0       0.0       0.0       0.0   \n",
            "\n",
            "   notRepairedDamage_0  notRepairedDamage_1  \n",
            "0                  0.0                  1.0  \n",
            "1                  1.0                  0.0  \n",
            "2                  0.0                  1.0  \n",
            "3                  0.0                  1.0  \n",
            "4                  0.0                  1.0  \n",
            "\n",
            "[5 rows x 316 columns]\n"
          ]
        }
      ]
    },
    {
      "cell_type": "markdown",
      "source": [
        "# 5. Modelagem com Random Forest\n",
        "\n",
        "# **Objetivo:**\n",
        " Treinar o modelo Random Forest para regressão e otimizar os hiperparâmetros utilizando\n",
        " GridSearchCV.\n",
        "\n",
        "# **Random Forest:**\n",
        " - Algoritmo de aprendizado de máquina que combina várias árvores de decisão para fazer\n",
        "   previsões mais precisas e robustas.\n",
        " - É um algoritmo versátil que pode ser usado para regressão e classificação.\n",
        "#\n",
        "# **GridSearchCV:**\n",
        " - Técnica para encontrar os melhores hiperparâmetros para um modelo de Machine Learning.\n",
        " - Testa várias combinações de hiperparâmetros e avalia o desempenho do modelo para cada\n",
        "   combinação.\n",
        " - Retorna os hiperparâmetros que resultaram no melhor desempenho."
      ],
      "metadata": {
        "id": "EZt-kTCKB2Rr"
      }
    },
    {
      "cell_type": "markdown",
      "source": [
        "# Separando features e target dividindo o DataFrame em features (X) e target (y)"
      ],
      "metadata": {
        "id": "lFhV9OvWB-Ps"
      }
    },
    {
      "cell_type": "code",
      "source": [
        "# Explicação:\n",
        "# - X: Variáveis independentes (usadas para prever o preço).\n",
        "# - y: Variável dependente (o preço, que queremos prever).\n",
        "X = df.drop('price', axis=1)  # Features (todas as colunas exceto 'price')\n",
        "y = df['price']  # Target (coluna 'price')"
      ],
      "metadata": {
        "id": "zyi175b6CCgy"
      },
      "execution_count": 27,
      "outputs": []
    },
    {
      "cell_type": "markdown",
      "source": [
        "\n",
        "# Dividindo os dados em conjuntos de treino e teste para avaliar o desempenho do modelo"
      ],
      "metadata": {
        "id": "x2ZeVK9dCEp3"
      }
    },
    {
      "cell_type": "code",
      "source": [
        "# Explicação:\n",
        "# - Conjunto de treinamento: Usado para treinar o modelo (ajustar os parâmetros).\n",
        "# - Conjunto de teste: Usado para avaliar o desempenho do modelo em dados não vistos.\n",
        "# - test_size=0.2: Especifica que 20% dos dados serão usados para teste.\n",
        "# - random_state=42: Garante que a divisão seja sempre a mesma (reproduzível).\n",
        "X_train, X_test, y_train, y_test = train_test_split(X, y, test_size=0.2, random_state=42)  # Divide os dados em 80% para treinamento e 20% para teste"
      ],
      "metadata": {
        "id": "4VcmbLphCPH0"
      },
      "execution_count": 28,
      "outputs": []
    },
    {
      "cell_type": "markdown",
      "source": [
        "# Definindo os hiperparâmetros para otimização\n",
        "# Definindo um grid de hiperparâmetros para serem testados pelo GridSearchCV"
      ],
      "metadata": {
        "id": "OEXhr5E_CSLR"
      }
    },
    {
      "cell_type": "code",
      "source": [
        "# Explicação:\n",
        "# - Hiperparâmetros são parâmetros que controlam o comportamento do modelo (não são aprendidos\n",
        "#   durante o treinamento).\n",
        "# - O GridSearchCV testa várias combinações de hiperparâmetros para encontrar a melhor.\n",
        "# - n_estimators: Número de árvores na floresta.\n",
        "# - max_depth: Profundidade máxima das árvores.\n",
        "# - min_samples_split: Número mínimo de amostras para dividir um nó.\n",
        "# - min_samples_leaf: Número mínimo de amostras em um nó folha.\n",
        "param_grid = {\n",
        "    'n_estimators': [100, 150, 200],  # Número de árvores na floresta\n",
        "    'max_depth': [10, 15, 20],  # Profundidade máxima das árvores\n",
        "    'min_samples_split': [2, 5, 10],  # Número mínimo de amostras para dividir um nó\n",
        "    'min_samples_leaf': [1, 2, 4]  # Número mínimo de amostras em um nó folha\n",
        "}"
      ],
      "metadata": {
        "id": "6mpqXarVCWwP"
      },
      "execution_count": 29,
      "outputs": []
    },
    {
      "cell_type": "markdown",
      "source": [
        "# Inicializando o GridSearchCV\n",
        "# Criando um objeto GridSearchCV para encontrar os melhores hiperparâmetros"
      ],
      "metadata": {
        "id": "3eD4dDE0CcXM"
      }
    },
    {
      "cell_type": "code",
      "source": [
        "# Explicação:\n",
        "# - GridSearchCV(): Classe do scikit-learn para realizar a busca por hiperparâmetros.\n",
        "# - estimator=RandomForestRegressor(random_state=42): Especifica o modelo a ser utilizado\n",
        "#   (Random Forest).\n",
        "# - param_grid=param_grid: Especifica o grid de hiperparâmetros a serem testados.\n",
        "# - cv=3: Especifica o número de folds na validação cruzada (3 folds).\n",
        "# - scoring='neg_mean_absolute_error': Especifica a métrica de avaliação a ser utilizada\n",
        "#   (MAE negativo).\n",
        "# - n_jobs=-1: Utiliza todos os núcleos da CPU para acelerar o processo.\n",
        "# - verbose=2: Exibe informações detalhadas durante o treinamento.\n",
        "grid_search = GridSearchCV(estimator=RandomForestRegressor(random_state=42),  # Modelo Random Forest\n",
        "                           param_grid=param_grid,  # Grid de hiperparâmetros\n",
        "                           cv=3,  # Validação cruzada com 3 folds\n",
        "                           scoring='neg_mean_absolute_error',  # Métrica de avaliação\n",
        "                           n_jobs=-1,  # Utiliza todos os núcleos da CPU\n",
        "                           verbose=2)  # Exibe informações detalhadas durante o treinamento"
      ],
      "metadata": {
        "id": "RdKuwpKgCfNb"
      },
      "execution_count": 30,
      "outputs": []
    },
    {
      "cell_type": "markdown",
      "source": [
        "# Executando o GridSearchCV para encontrar os melhores hiperparâmetros"
      ],
      "metadata": {
        "id": "IyopydETCh9p"
      }
    },
    {
      "cell_type": "code",
      "source": [
        "# Explicação:\n",
        "# - grid_search.fit(): Método do GridSearchCV para ajustar o modelo aos dados de treinamento.\n",
        "grid_search.fit(X_train, y_train)"
      ],
      "metadata": {
        "colab": {
          "base_uri": "https://localhost:8080/",
          "height": 338
        },
        "id": "gUD265HjCkjY",
        "outputId": "2ba79b54-ff21-4ede-fb29-c34cac574194"
      },
      "execution_count": 31,
      "outputs": [
        {
          "output_type": "stream",
          "name": "stdout",
          "text": [
            "Fitting 3 folds for each of 81 candidates, totalling 243 fits\n"
          ]
        },
        {
          "output_type": "error",
          "ename": "KeyboardInterrupt",
          "evalue": "",
          "traceback": [
            "\u001b[0;31m---------------------------------------------------------------------------\u001b[0m",
            "\u001b[0;31mKeyboardInterrupt\u001b[0m                         Traceback (most recent call last)",
            "\u001b[0;32m<ipython-input-31-f568a1a66d18>\u001b[0m in \u001b[0;36m<cell line: 0>\u001b[0;34m()\u001b[0m\n\u001b[1;32m      1\u001b[0m \u001b[0;31m# Explicação:\u001b[0m\u001b[0;34m\u001b[0m\u001b[0;34m\u001b[0m\u001b[0m\n\u001b[1;32m      2\u001b[0m \u001b[0;31m# - grid_search.fit(): Método do GridSearchCV para ajustar o modelo aos dados de treinamento.\u001b[0m\u001b[0;34m\u001b[0m\u001b[0;34m\u001b[0m\u001b[0m\n\u001b[0;32m----> 3\u001b[0;31m \u001b[0mgrid_search\u001b[0m\u001b[0;34m.\u001b[0m\u001b[0mfit\u001b[0m\u001b[0;34m(\u001b[0m\u001b[0mX_train\u001b[0m\u001b[0;34m,\u001b[0m \u001b[0my_train\u001b[0m\u001b[0;34m)\u001b[0m\u001b[0;34m\u001b[0m\u001b[0;34m\u001b[0m\u001b[0m\n\u001b[0m",
            "\u001b[0;32m/usr/local/lib/python3.11/dist-packages/sklearn/base.py\u001b[0m in \u001b[0;36mwrapper\u001b[0;34m(estimator, *args, **kwargs)\u001b[0m\n\u001b[1;32m   1387\u001b[0m                 )\n\u001b[1;32m   1388\u001b[0m             ):\n\u001b[0;32m-> 1389\u001b[0;31m                 \u001b[0;32mreturn\u001b[0m \u001b[0mfit_method\u001b[0m\u001b[0;34m(\u001b[0m\u001b[0mestimator\u001b[0m\u001b[0;34m,\u001b[0m \u001b[0;34m*\u001b[0m\u001b[0margs\u001b[0m\u001b[0;34m,\u001b[0m \u001b[0;34m**\u001b[0m\u001b[0mkwargs\u001b[0m\u001b[0;34m)\u001b[0m\u001b[0;34m\u001b[0m\u001b[0;34m\u001b[0m\u001b[0m\n\u001b[0m\u001b[1;32m   1390\u001b[0m \u001b[0;34m\u001b[0m\u001b[0m\n\u001b[1;32m   1391\u001b[0m         \u001b[0;32mreturn\u001b[0m \u001b[0mwrapper\u001b[0m\u001b[0;34m\u001b[0m\u001b[0;34m\u001b[0m\u001b[0m\n",
            "\u001b[0;32m/usr/local/lib/python3.11/dist-packages/sklearn/model_selection/_search.py\u001b[0m in \u001b[0;36mfit\u001b[0;34m(self, X, y, **params)\u001b[0m\n\u001b[1;32m   1022\u001b[0m                 \u001b[0;32mreturn\u001b[0m \u001b[0mresults\u001b[0m\u001b[0;34m\u001b[0m\u001b[0;34m\u001b[0m\u001b[0m\n\u001b[1;32m   1023\u001b[0m \u001b[0;34m\u001b[0m\u001b[0m\n\u001b[0;32m-> 1024\u001b[0;31m             \u001b[0mself\u001b[0m\u001b[0;34m.\u001b[0m\u001b[0m_run_search\u001b[0m\u001b[0;34m(\u001b[0m\u001b[0mevaluate_candidates\u001b[0m\u001b[0;34m)\u001b[0m\u001b[0;34m\u001b[0m\u001b[0;34m\u001b[0m\u001b[0m\n\u001b[0m\u001b[1;32m   1025\u001b[0m \u001b[0;34m\u001b[0m\u001b[0m\n\u001b[1;32m   1026\u001b[0m             \u001b[0;31m# multimetric is determined here because in the case of a callable\u001b[0m\u001b[0;34m\u001b[0m\u001b[0;34m\u001b[0m\u001b[0m\n",
            "\u001b[0;32m/usr/local/lib/python3.11/dist-packages/sklearn/model_selection/_search.py\u001b[0m in \u001b[0;36m_run_search\u001b[0;34m(self, evaluate_candidates)\u001b[0m\n\u001b[1;32m   1569\u001b[0m     \u001b[0;32mdef\u001b[0m \u001b[0m_run_search\u001b[0m\u001b[0;34m(\u001b[0m\u001b[0mself\u001b[0m\u001b[0;34m,\u001b[0m \u001b[0mevaluate_candidates\u001b[0m\u001b[0;34m)\u001b[0m\u001b[0;34m:\u001b[0m\u001b[0;34m\u001b[0m\u001b[0;34m\u001b[0m\u001b[0m\n\u001b[1;32m   1570\u001b[0m         \u001b[0;34m\"\"\"Search all candidates in param_grid\"\"\"\u001b[0m\u001b[0;34m\u001b[0m\u001b[0;34m\u001b[0m\u001b[0m\n\u001b[0;32m-> 1571\u001b[0;31m         \u001b[0mevaluate_candidates\u001b[0m\u001b[0;34m(\u001b[0m\u001b[0mParameterGrid\u001b[0m\u001b[0;34m(\u001b[0m\u001b[0mself\u001b[0m\u001b[0;34m.\u001b[0m\u001b[0mparam_grid\u001b[0m\u001b[0;34m)\u001b[0m\u001b[0;34m)\u001b[0m\u001b[0;34m\u001b[0m\u001b[0;34m\u001b[0m\u001b[0m\n\u001b[0m\u001b[1;32m   1572\u001b[0m \u001b[0;34m\u001b[0m\u001b[0m\n\u001b[1;32m   1573\u001b[0m \u001b[0;34m\u001b[0m\u001b[0m\n",
            "\u001b[0;32m/usr/local/lib/python3.11/dist-packages/sklearn/model_selection/_search.py\u001b[0m in \u001b[0;36mevaluate_candidates\u001b[0;34m(candidate_params, cv, more_results)\u001b[0m\n\u001b[1;32m    968\u001b[0m                     )\n\u001b[1;32m    969\u001b[0m \u001b[0;34m\u001b[0m\u001b[0m\n\u001b[0;32m--> 970\u001b[0;31m                 out = parallel(\n\u001b[0m\u001b[1;32m    971\u001b[0m                     delayed(_fit_and_score)(\n\u001b[1;32m    972\u001b[0m                         \u001b[0mclone\u001b[0m\u001b[0;34m(\u001b[0m\u001b[0mbase_estimator\u001b[0m\u001b[0;34m)\u001b[0m\u001b[0;34m,\u001b[0m\u001b[0;34m\u001b[0m\u001b[0;34m\u001b[0m\u001b[0m\n",
            "\u001b[0;32m/usr/local/lib/python3.11/dist-packages/sklearn/utils/parallel.py\u001b[0m in \u001b[0;36m__call__\u001b[0;34m(self, iterable)\u001b[0m\n\u001b[1;32m     75\u001b[0m             \u001b[0;32mfor\u001b[0m \u001b[0mdelayed_func\u001b[0m\u001b[0;34m,\u001b[0m \u001b[0margs\u001b[0m\u001b[0;34m,\u001b[0m \u001b[0mkwargs\u001b[0m \u001b[0;32min\u001b[0m \u001b[0miterable\u001b[0m\u001b[0;34m\u001b[0m\u001b[0;34m\u001b[0m\u001b[0m\n\u001b[1;32m     76\u001b[0m         )\n\u001b[0;32m---> 77\u001b[0;31m         \u001b[0;32mreturn\u001b[0m \u001b[0msuper\u001b[0m\u001b[0;34m(\u001b[0m\u001b[0;34m)\u001b[0m\u001b[0;34m.\u001b[0m\u001b[0m__call__\u001b[0m\u001b[0;34m(\u001b[0m\u001b[0miterable_with_config\u001b[0m\u001b[0;34m)\u001b[0m\u001b[0;34m\u001b[0m\u001b[0;34m\u001b[0m\u001b[0m\n\u001b[0m\u001b[1;32m     78\u001b[0m \u001b[0;34m\u001b[0m\u001b[0m\n\u001b[1;32m     79\u001b[0m \u001b[0;34m\u001b[0m\u001b[0m\n",
            "\u001b[0;32m/usr/local/lib/python3.11/dist-packages/joblib/parallel.py\u001b[0m in \u001b[0;36m__call__\u001b[0;34m(self, iterable)\u001b[0m\n\u001b[1;32m   2005\u001b[0m         \u001b[0mnext\u001b[0m\u001b[0;34m(\u001b[0m\u001b[0moutput\u001b[0m\u001b[0;34m)\u001b[0m\u001b[0;34m\u001b[0m\u001b[0;34m\u001b[0m\u001b[0m\n\u001b[1;32m   2006\u001b[0m \u001b[0;34m\u001b[0m\u001b[0m\n\u001b[0;32m-> 2007\u001b[0;31m         \u001b[0;32mreturn\u001b[0m \u001b[0moutput\u001b[0m \u001b[0;32mif\u001b[0m \u001b[0mself\u001b[0m\u001b[0;34m.\u001b[0m\u001b[0mreturn_generator\u001b[0m \u001b[0;32melse\u001b[0m \u001b[0mlist\u001b[0m\u001b[0;34m(\u001b[0m\u001b[0moutput\u001b[0m\u001b[0;34m)\u001b[0m\u001b[0;34m\u001b[0m\u001b[0;34m\u001b[0m\u001b[0m\n\u001b[0m\u001b[1;32m   2008\u001b[0m \u001b[0;34m\u001b[0m\u001b[0m\n\u001b[1;32m   2009\u001b[0m     \u001b[0;32mdef\u001b[0m \u001b[0m__repr__\u001b[0m\u001b[0;34m(\u001b[0m\u001b[0mself\u001b[0m\u001b[0;34m)\u001b[0m\u001b[0;34m:\u001b[0m\u001b[0;34m\u001b[0m\u001b[0;34m\u001b[0m\u001b[0m\n",
            "\u001b[0;32m/usr/local/lib/python3.11/dist-packages/joblib/parallel.py\u001b[0m in \u001b[0;36m_get_outputs\u001b[0;34m(self, iterator, pre_dispatch)\u001b[0m\n\u001b[1;32m   1648\u001b[0m \u001b[0;34m\u001b[0m\u001b[0m\n\u001b[1;32m   1649\u001b[0m             \u001b[0;32mwith\u001b[0m \u001b[0mself\u001b[0m\u001b[0;34m.\u001b[0m\u001b[0m_backend\u001b[0m\u001b[0;34m.\u001b[0m\u001b[0mretrieval_context\u001b[0m\u001b[0;34m(\u001b[0m\u001b[0;34m)\u001b[0m\u001b[0;34m:\u001b[0m\u001b[0;34m\u001b[0m\u001b[0;34m\u001b[0m\u001b[0m\n\u001b[0;32m-> 1650\u001b[0;31m                 \u001b[0;32myield\u001b[0m \u001b[0;32mfrom\u001b[0m \u001b[0mself\u001b[0m\u001b[0;34m.\u001b[0m\u001b[0m_retrieve\u001b[0m\u001b[0;34m(\u001b[0m\u001b[0;34m)\u001b[0m\u001b[0;34m\u001b[0m\u001b[0;34m\u001b[0m\u001b[0m\n\u001b[0m\u001b[1;32m   1651\u001b[0m \u001b[0;34m\u001b[0m\u001b[0m\n\u001b[1;32m   1652\u001b[0m         \u001b[0;32mexcept\u001b[0m \u001b[0mGeneratorExit\u001b[0m\u001b[0;34m:\u001b[0m\u001b[0;34m\u001b[0m\u001b[0;34m\u001b[0m\u001b[0m\n",
            "\u001b[0;32m/usr/local/lib/python3.11/dist-packages/joblib/parallel.py\u001b[0m in \u001b[0;36m_retrieve\u001b[0;34m(self)\u001b[0m\n\u001b[1;32m   1760\u001b[0m                 (self._jobs[0].get_status(\n\u001b[1;32m   1761\u001b[0m                     timeout=self.timeout) == TASK_PENDING)):\n\u001b[0;32m-> 1762\u001b[0;31m                 \u001b[0mtime\u001b[0m\u001b[0;34m.\u001b[0m\u001b[0msleep\u001b[0m\u001b[0;34m(\u001b[0m\u001b[0;36m0.01\u001b[0m\u001b[0;34m)\u001b[0m\u001b[0;34m\u001b[0m\u001b[0;34m\u001b[0m\u001b[0m\n\u001b[0m\u001b[1;32m   1763\u001b[0m                 \u001b[0;32mcontinue\u001b[0m\u001b[0;34m\u001b[0m\u001b[0;34m\u001b[0m\u001b[0m\n\u001b[1;32m   1764\u001b[0m \u001b[0;34m\u001b[0m\u001b[0m\n",
            "\u001b[0;31mKeyboardInterrupt\u001b[0m: "
          ]
        }
      ]
    },
    {
      "cell_type": "markdown",
      "source": [
        "# Exibindo os melhores hiperparâmetros encontrados pelo GridSearchCV"
      ],
      "metadata": {
        "id": "_BTIQFN6Cn9B"
      }
    },
    {
      "cell_type": "code",
      "source": [
        "# Explicação:\n",
        "# - grid_search.best_params_: Atributo do GridSearchCV que retorna os melhores\n",
        "#   hiperparâmetros encontrados.\n",
        "print(\"\\nMelhores parâmetros encontrados:\")\n",
        "print(grid_search.best_params_)"
      ],
      "metadata": {
        "id": "herUfMvhCryB"
      },
      "execution_count": null,
      "outputs": []
    },
    {
      "cell_type": "markdown",
      "source": [
        "#  6. Avaliação do Modelo\n",
        "\n",
        "# **Objetivo:**\n",
        " Avaliar o desempenho do modelo utilizando o conjunto de teste e calcular o MAE.\n",
        "\n",
        "# **Avaliação do Modelo:**\n",
        " - Utilizar o conjunto de teste para avaliar o desempenho do modelo em dados não vistos.\n",
        " - Calcular o MAE para quantificar o erro médio das previsões."
      ],
      "metadata": {
        "id": "WDbBqnzaCvLK"
      }
    },
    {
      "cell_type": "markdown",
      "source": [
        "# Fazendo previsões com o modelo otimizado e utilizando o modelo treinado para fazer previsões no conjunto de teste"
      ],
      "metadata": {
        "id": "plBVbYYLC0sq"
      }
    },
    {
      "cell_type": "code",
      "source": [
        "# Explicação:\n",
        "# - grid_search.predict(): Método do GridSearchCV para fazer previsões com o modelo treinado.\n",
        "# - X_test: Dados de teste a serem utilizados para fazer as previsões.\n",
        "y_pred = grid_search.predict(X_test)"
      ],
      "metadata": {
        "id": "iWrSIWQBC4HU"
      },
      "execution_count": null,
      "outputs": []
    },
    {
      "cell_type": "markdown",
      "source": [
        "\n",
        "# Calculando o Mean Absolute Error (MAE) para avaliar o desempenho do modelo"
      ],
      "metadata": {
        "id": "E_fg9JtIC5pk"
      }
    },
    {
      "cell_type": "code",
      "source": [
        "# Explicação:\n",
        "# - mean_absolute_error(): Função do scikit-learn para calcular o MAE.\n",
        "# - y_test: Valores reais do preço no conjunto de teste.\n",
        "# - y_pred: Valores previstos pelo modelo no conjunto de teste.\n",
        "mae = mean_absolute_error(y_test, y_pred)\n",
        "print(\"\\nMAE no conjunto de teste:\", mae)"
      ],
      "metadata": {
        "id": "n6yqHj0GC_69"
      },
      "execution_count": null,
      "outputs": []
    },
    {
      "cell_type": "markdown",
      "source": [
        "#  7. Conclusão\n",
        "\n",
        "# **Objetivo:**\n",
        " Apresentar as conclusões do projeto e discutir os próximos passos.\n",
        "\n",
        "# **Conclusão:**\n",
        " - O modelo Random Forest foi treinado e otimizado com sucesso para prever o preço de veículos.\n",
        " - O MAE no conjunto de teste indica o quão bem o modelo está performando.\n",
        "\n",
        "# **Próximos Passos:**\n",
        " - Analisar a importância das features para entender quais variáveis têm maior impacto na\n",
        "   previsão do preço.\n",
        " - Coletar mais dados e refinar o modelo para melhorar a precisão das previsões.\n",
        " - Implementar o modelo em um sistema de previsão em tempo real."
      ],
      "metadata": {
        "id": "Nf-is5WhDICi"
      }
    },
    {
      "cell_type": "markdown",
      "source": [
        "# Analisando a importância das features\n",
        "# Calculando e visualizando a importância de cada feature para o modelo"
      ],
      "metadata": {
        "id": "Ur9Gb_REDRIk"
      }
    },
    {
      "cell_type": "code",
      "source": [
        "# Explicação:\n",
        "# - A importância das features indica quais variáveis têm maior impacto na previsão do preço.\n",
        "# - Isso pode ajudar a entender o que o modelo está aprendendo e a identificar quais variáveis\n",
        "#   são mais relevantes.\n",
        "# - grid_search.best_estimator_.feature_importances_: Atributo do GridSearchCV que retorna a\n",
        "#   importância das features.\n",
        "importances = grid_search.best_estimator_.feature_importances_  # Obtém a importância das features\n",
        "feature_names = X.columns  # Obtém os nomes das features\n",
        "plt.figure(figsize=(12, 8))  # Define o tamanho da figura\n",
        "plt.bar(feature_names, importances)  # Cria um gráfico de barras com a importância das features\n",
        "plt.xticks(rotation=90, ha=\"right\")  # Rotaciona os rótulos do eixo x para melhor visualização\n",
        "plt.title(\"Importância das Features\")  # Define o título do gráfico\n",
        "plt.xlabel(\"Features\")  # Define o rótulo do eixo x\n",
        "plt.ylabel(\"Importância\")  # Define o rótulo do eixo y\n",
        "plt.tight_layout()  # Ajusta o layout para evitar cortes\n",
        "plt.show()  # Exibe o gráfico"
      ],
      "metadata": {
        "id": "3bkgeNEd7mqs"
      },
      "execution_count": null,
      "outputs": []
    },
    {
      "cell_type": "markdown",
      "source": [
        "# Caio Santiago de Oliveira RM 559788"
      ],
      "metadata": {
        "id": "C06TCBnhG4v-"
      }
    }
  ]
}